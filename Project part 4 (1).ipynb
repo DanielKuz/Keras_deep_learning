{
 "cells": [
  {
   "cell_type": "code",
   "execution_count": 1,
   "metadata": {},
   "outputs": [
    {
     "name": "stderr",
     "output_type": "stream",
     "text": [
      "Using TensorFlow backend.\n"
     ]
    }
   ],
   "source": [
    "import pandas as pd\n",
    "import numpy as np\n",
    "import keras\n",
    "from keras.models import Sequential\n",
    "from keras.layers import Dense\n",
    "from sklearn.model_selection import train_test_split"
   ]
  },
  {
   "cell_type": "code",
   "execution_count": 2,
   "metadata": {},
   "outputs": [],
   "source": [
    "concrete_data = pd.read_csv('https://cocl.us/concrete_data')\n",
    "concrete_data_columns = concrete_data.columns\n",
    "predictors = concrete_data[concrete_data_columns[concrete_data_columns != 'Strength']] \n",
    "predictor=(predictors-predictors.mean())/predictors.std()\n",
    "target = concrete_data['Strength']"
   ]
  },
  {
   "cell_type": "code",
   "execution_count": 3,
   "metadata": {},
   "outputs": [],
   "source": [
    "def regression_model():\n",
    "    model = Sequential()\n",
    "    model.add(Dense(10, activation='relu', input_shape=(8,)))\n",
    "    model.add(Dense(1))\n",
    "    model.compile(optimizer='adam', loss='mean_squared_error')\n",
    "    return model"
   ]
  },
  {
   "cell_type": "code",
   "execution_count": 4,
   "metadata": {},
   "outputs": [],
   "source": [
    "def deep_regression_model():\n",
    "    model = Sequential()\n",
    "    model.add(Dense(10, activation='relu', input_shape=(8,)))\n",
    "    model.add(Dense(10, activation='relu'))\n",
    "    model.add(Dense(10, activation='relu'))\n",
    "    model.add(Dense(1))\n",
    "    model.compile(optimizer='adam', loss='mean_squared_error')\n",
    "    return model"
   ]
  },
  {
   "cell_type": "code",
   "execution_count": 5,
   "metadata": {},
   "outputs": [],
   "source": [
    "model = regression_model()\n",
    "deep_model = deep_regression_model()"
   ]
  },
  {
   "cell_type": "code",
   "execution_count": 6,
   "metadata": {},
   "outputs": [],
   "source": [
    "mse_error=[]\n",
    "from sklearn.metrics import mean_squared_error\n",
    "for i in range(0,50):\n",
    "    x_train,x_test,y_train,y_test=train_test_split(predictors,target,test_size=0.3,shuffle=True)\n",
    "    model.fit(x_train,y_train,epochs=100,verbose=0)\n",
    "    y_pred=model.predict(x_test)\n",
    "    error=mean_squared_error(y_test, y_pred)\n",
    "    mse_error.append(error)"
   ]
  },
  {
   "cell_type": "code",
   "execution_count": 7,
   "metadata": {},
   "outputs": [
    {
     "data": {
      "text/plain": [
       "[130.95537170036607,\n",
       " 101.85829892114707,\n",
       " 100.6850233011,\n",
       " 124.17069538778168,\n",
       " 123.27709869639453,\n",
       " 129.68428110352926,\n",
       " 109.68599615466837,\n",
       " 118.2634162451047,\n",
       " 123.3749237194856,\n",
       " 125.35419558579228,\n",
       " 120.0951402368579,\n",
       " 113.3966486990858,\n",
       " 109.4976557373877,\n",
       " 105.53778798987584,\n",
       " 119.4404527395973,\n",
       " 120.89809785098562,\n",
       " 125.84546576715842,\n",
       " 104.19856992968555,\n",
       " 113.1741308845954,\n",
       " 116.39008534288239,\n",
       " 114.4437104756174,\n",
       " 113.38893774579134,\n",
       " 105.4967368843619,\n",
       " 108.94167588499417,\n",
       " 113.65705075231195,\n",
       " 102.18819279877252,\n",
       " 104.60200432076128,\n",
       " 100.95267111599611,\n",
       " 118.79216693154916,\n",
       " 59.641799341996055,\n",
       " 51.61975183792587,\n",
       " 51.52177493005679,\n",
       " 50.051901097395444,\n",
       " 41.38183628900053,\n",
       " 53.366684420055776,\n",
       " 45.81821706428042,\n",
       " 54.62679928356498,\n",
       " 51.59164179269735,\n",
       " 47.96466561459061,\n",
       " 43.075866234802184,\n",
       " 39.953248868186,\n",
       " 43.90345095381879,\n",
       " 45.812639329443925,\n",
       " 46.36987070340624,\n",
       " 43.03721655617968,\n",
       " 55.503584792665784,\n",
       " 47.237143569879045,\n",
       " 44.778930345305575,\n",
       " 50.87127049288588,\n",
       " 43.42776791765947]"
      ]
     },
     "execution_count": 7,
     "metadata": {},
     "output_type": "execute_result"
    }
   ],
   "source": [
    "mse_error"
   ]
  },
  {
   "cell_type": "code",
   "execution_count": 8,
   "metadata": {},
   "outputs": [],
   "source": [
    "mse_error_deep_nn=[]\n",
    "for i in range(0,50):\n",
    "    X_train,X_test,Y_train,Y_test=train_test_split(predictors,target,test_size=0.3,shuffle=True)\n",
    "    deep_model.fit(X_train,Y_train,epochs=100,verbose=0)\n",
    "    Y_pred=deep_model.predict(X_test)\n",
    "    Error=mean_squared_error(Y_test, Y_pred)\n",
    "    mse_error_deep_nn.append(Error)"
   ]
  },
  {
   "cell_type": "code",
   "execution_count": 9,
   "metadata": {},
   "outputs": [
    {
     "data": {
      "text/plain": [
       "[69.40426783408931,\n",
       " 51.62968555166654,\n",
       " 62.62240819496841,\n",
       " 44.22570153020663,\n",
       " 43.06819934037537,\n",
       " 35.659433823265594,\n",
       " 40.156771099988255,\n",
       " 31.835436579318564,\n",
       " 37.00896607753092,\n",
       " 39.199442521036644,\n",
       " 31.051000633187275,\n",
       " 40.30032068925815,\n",
       " 40.076200543219095,\n",
       " 36.626699142676294,\n",
       " 28.6304819734398,\n",
       " 34.157439472790585,\n",
       " 38.78817016595415,\n",
       " 30.149086945128136,\n",
       " 32.63934098104313,\n",
       " 36.58910157225785,\n",
       " 31.390155330051748,\n",
       " 39.406333367791234,\n",
       " 33.69252935325489,\n",
       " 36.60949692277531,\n",
       " 32.898834428526186,\n",
       " 29.96113149143128,\n",
       " 26.490698517895485,\n",
       " 30.845965513521403,\n",
       " 33.544957202270155,\n",
       " 29.090255356495618,\n",
       " 23.841674426791364,\n",
       " 27.675272240047256,\n",
       " 27.245002941177052,\n",
       " 30.970649027347175,\n",
       " 33.71116989546373,\n",
       " 26.571739487535318,\n",
       " 22.661950364641545,\n",
       " 34.08942617252124,\n",
       " 31.50069605291419,\n",
       " 30.10990431727605,\n",
       " 28.23227847973548,\n",
       " 30.00873660902339,\n",
       " 27.521467248826013,\n",
       " 24.779936742329376,\n",
       " 21.89309939528473,\n",
       " 29.536932073016466,\n",
       " 24.652582660522153,\n",
       " 25.88564667054689,\n",
       " 28.665850881590043,\n",
       " 25.673523427638333]"
      ]
     },
     "execution_count": 9,
     "metadata": {},
     "output_type": "execute_result"
    }
   ],
   "source": [
    "mse_error_deep_nn"
   ]
  },
  {
   "cell_type": "code",
   "execution_count": 10,
   "metadata": {},
   "outputs": [],
   "source": [
    "mean_mse = np.mean(mse_error)\n",
    "mean_mse_deepnn = np.mean(mse_error_deep_nn)"
   ]
  },
  {
   "cell_type": "code",
   "execution_count": 11,
   "metadata": {},
   "outputs": [
    {
     "data": {
      "text/plain": [
       "86.59605088678867"
      ]
     },
     "execution_count": 11,
     "metadata": {},
     "output_type": "execute_result"
    }
   ],
   "source": [
    "mean_mse"
   ]
  },
  {
   "cell_type": "code",
   "execution_count": 12,
   "metadata": {},
   "outputs": [
    {
     "data": {
      "text/plain": [
       "33.659521025392834"
      ]
     },
     "execution_count": 12,
     "metadata": {},
     "output_type": "execute_result"
    }
   ],
   "source": [
    "mean_mse_deepnn"
   ]
  },
  {
   "cell_type": "code",
   "execution_count": null,
   "metadata": {},
   "outputs": [],
   "source": []
  }
 ],
 "metadata": {
  "kernelspec": {
   "display_name": "Python",
   "language": "python",
   "name": "conda-env-python-py"
  },
  "language_info": {
   "codemirror_mode": {
    "name": "ipython",
    "version": 3
   },
   "file_extension": ".py",
   "mimetype": "text/x-python",
   "name": "python",
   "nbconvert_exporter": "python",
   "pygments_lexer": "ipython3",
   "version": "3.6.7"
  }
 },
 "nbformat": 4,
 "nbformat_minor": 4
}
