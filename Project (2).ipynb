{
 "cells": [
  {
   "cell_type": "code",
   "execution_count": 133,
   "metadata": {},
   "outputs": [],
   "source": [
    "import pandas as pd\n",
    "import numpy as np\n",
    "import keras \n",
    "from keras.models import Sequential\n",
    "from keras.layers import Dense\n",
    "from sklearn.metrics import mean_squared_error\n",
    "meanlist=[]"
   ]
  },
  {
   "cell_type": "code",
   "execution_count": 134,
   "metadata": {},
   "outputs": [
    {
     "data": {
      "text/plain": [
       "(1030, 9)"
      ]
     },
     "execution_count": 134,
     "metadata": {},
     "output_type": "execute_result"
    }
   ],
   "source": [
    "concrete_data = pd.read_csv('https://cocl.us/concrete_data')\n",
    "concrete_data.shape"
   ]
  },
  {
   "cell_type": "code",
   "execution_count": 135,
   "metadata": {},
   "outputs": [],
   "source": [
    "concrete_data_columns = concrete_data.columns\n",
    "predictors = concrete_data[concrete_data_columns[concrete_data_columns != 'Strength']] # all columns except Strength\n",
    "target = concrete_data['Strength']"
   ]
  },
  {
   "cell_type": "code",
   "execution_count": 136,
   "metadata": {},
   "outputs": [],
   "source": [
    "def regression_model():\n",
    "    model = Sequential()\n",
    "    model.add(Dense(10, activation='relu', input_shape=(8,)))\n",
    "    model.add(Dense(1))\n",
    "    model.compile(optimizer='adam', loss='mean_squared_error')\n",
    "    return model"
   ]
  },
  {
   "cell_type": "code",
   "execution_count": 137,
   "metadata": {},
   "outputs": [],
   "source": [
    "model = regression_model()\n"
   ]
  },
  {
   "cell_type": "code",
   "execution_count": 139,
   "metadata": {},
   "outputs": [],
   "source": [
    "mse_error=[]\n",
    "from sklearn.metrics import mean_squared_error\n",
    "for i in range(51):\n",
    "    x_train,x_test,y_train,y_test=train_test_split(predictors,target,test_size=0.3,shuffle=True)\n",
    "    model.fit(x_train,y_train,epochs=50,verbose=0)\n",
    "    y_pred=model.predict(x_test)\n",
    "    error=mean_squared_error(y_test, y_pred)\n",
    "    mse_error.append(error)"
   ]
  },
  {
   "cell_type": "code",
   "execution_count": 140,
   "metadata": {},
   "outputs": [
    {
     "data": {
      "text/plain": [
       "[49.39582168278843,\n",
       " 40.50870276165341,\n",
       " 50.006989636544574,\n",
       " 43.16841024235763,\n",
       " 55.91055381040346,\n",
       " 45.49649042985009,\n",
       " 42.11216444049841,\n",
       " 38.69681446245115,\n",
       " 42.87376029209859,\n",
       " 43.759534461432125,\n",
       " 47.252183335582316,\n",
       " 45.0405560860088,\n",
       " 43.24127445729781,\n",
       " 44.90602977066609,\n",
       " 42.374433921788366,\n",
       " 38.84642746524043,\n",
       " 47.20166129330682,\n",
       " 40.27168264600649,\n",
       " 41.26638015754905,\n",
       " 39.05397409704886,\n",
       " 45.44192057276228,\n",
       " 45.68338363029902,\n",
       " 42.48526969757244,\n",
       " 52.18955800731668,\n",
       " 44.91352467364503,\n",
       " 45.91246254013445,\n",
       " 44.07661408138032,\n",
       " 47.0620334941559,\n",
       " 43.777632640380666,\n",
       " 39.54455578543199,\n",
       " 47.332035610804695,\n",
       " 40.7046304491885,\n",
       " 52.36589362522856,\n",
       " 49.05788212275676,\n",
       " 54.83794000588005,\n",
       " 50.453745137885996,\n",
       " 41.70846101202165,\n",
       " 47.67619418516492,\n",
       " 42.735995174694935,\n",
       " 40.83321531041898,\n",
       " 39.585484459829864,\n",
       " 43.474457125956654,\n",
       " 46.35627877323842,\n",
       " 41.03303583151277,\n",
       " 45.85883338430363,\n",
       " 51.06088649506316,\n",
       " 40.32631003960748,\n",
       " 40.76011905060802,\n",
       " 39.44686817372482,\n",
       " 45.89583723256777,\n",
       " 43.141790333450544]"
      ]
     },
     "execution_count": 140,
     "metadata": {},
     "output_type": "execute_result"
    }
   ],
   "source": [
    "mse_error"
   ]
  },
  {
   "cell_type": "markdown",
   "metadata": {},
   "source": [
    "# Part 2\n"
   ]
  },
  {
   "cell_type": "code",
   "execution_count": null,
   "metadata": {},
   "outputs": [],
   "source": []
  }
 ],
 "metadata": {
  "kernelspec": {
   "display_name": "Python",
   "language": "python",
   "name": "conda-env-python-py"
  },
  "language_info": {
   "codemirror_mode": {
    "name": "ipython",
    "version": 3
   },
   "file_extension": ".py",
   "mimetype": "text/x-python",
   "name": "python",
   "nbconvert_exporter": "python",
   "pygments_lexer": "ipython3",
   "version": "3.6.7"
  }
 },
 "nbformat": 4,
 "nbformat_minor": 4
}
