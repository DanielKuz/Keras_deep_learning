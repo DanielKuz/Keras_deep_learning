{
 "cells": [
  {
   "cell_type": "code",
   "execution_count": 1,
   "metadata": {},
   "outputs": [
    {
     "name": "stderr",
     "output_type": "stream",
     "text": [
      "Using TensorFlow backend.\n"
     ]
    }
   ],
   "source": [
    "import pandas as pd\n",
    "import numpy as np\n",
    "import keras\n",
    "from keras.models import Sequential\n",
    "from keras.layers import Dense\n",
    "from sklearn.model_selection import train_test_split"
   ]
  },
  {
   "cell_type": "code",
   "execution_count": 2,
   "metadata": {},
   "outputs": [],
   "source": [
    "concrete_data = pd.read_csv('https://cocl.us/concrete_data')\n",
    "concrete_data_columns = concrete_data.columns\n",
    "predictors = concrete_data[concrete_data_columns[concrete_data_columns != 'Strength']] \n",
    "predictor=(predictors-predictors.mean())/predictors.std()\n",
    "target = concrete_data['Strength']"
   ]
  },
  {
   "cell_type": "code",
   "execution_count": 3,
   "metadata": {},
   "outputs": [],
   "source": [
    "def regression_model():\n",
    "    model = Sequential()\n",
    "    model.add(Dense(10, activation='relu', input_shape=(8,)))\n",
    "    model.add(Dense(1))\n",
    "    model.compile(optimizer='adam', loss='mean_squared_error')\n",
    "    return model"
   ]
  },
  {
   "cell_type": "code",
   "execution_count": 4,
   "metadata": {},
   "outputs": [],
   "source": [
    "model = regression_model()"
   ]
  },
  {
   "cell_type": "code",
   "execution_count": 5,
   "metadata": {},
   "outputs": [],
   "source": [
    "mse_error=[]\n",
    "from sklearn.metrics import mean_squared_error\n",
    "for i in range(0,50):\n",
    "    x_train,x_test,y_train,y_test=train_test_split(predictors,target,test_size=0.3,shuffle=True)\n",
    "    model.fit(x_train,y_train,epochs=50,verbose=0)\n",
    "    y_pred=model.predict(x_test)\n",
    "    error=mean_squared_error(y_test, y_pred)\n",
    "    mse_error.append(error)"
   ]
  },
  {
   "cell_type": "code",
   "execution_count": 6,
   "metadata": {},
   "outputs": [
    {
     "data": {
      "text/plain": [
       "[385.34711456840125,\n",
       " 193.30743471132175,\n",
       " 125.80348673376925,\n",
       " 117.27346370864657,\n",
       " 80.13245087710749,\n",
       " 65.1965119684727,\n",
       " 56.842431732320165,\n",
       " 51.85308258726523,\n",
       " 54.71296298887166,\n",
       " 52.7986246179901,\n",
       " 49.71611460002396,\n",
       " 57.395878041713125,\n",
       " 47.80918746412576,\n",
       " 54.87284844941718,\n",
       " 49.82725680331287,\n",
       " 51.64159104900757,\n",
       " 50.8213806192292,\n",
       " 51.37282789771665,\n",
       " 52.6862039902293,\n",
       " 48.56405616877882,\n",
       " 52.55796887761658,\n",
       " 45.554667119469244,\n",
       " 61.570220137321,\n",
       " 66.16460649322804,\n",
       " 45.581737836525576,\n",
       " 45.555100859349125,\n",
       " 47.68933267788712,\n",
       " 40.13647774173579,\n",
       " 48.59310687885455,\n",
       " 47.32328549966261,\n",
       " 57.356863372674894,\n",
       " 49.99312286753825,\n",
       " 49.4707358354335,\n",
       " 44.08778730980368,\n",
       " 52.15522023557334,\n",
       " 50.8088381678089,\n",
       " 45.03113456639305,\n",
       " 52.60373295161973,\n",
       " 48.343414480740506,\n",
       " 41.909042444206264,\n",
       " 52.519012822434384,\n",
       " 54.15944059134517,\n",
       " 46.67680332031204,\n",
       " 50.649794751987756,\n",
       " 47.36804446273862,\n",
       " 55.257792166776106,\n",
       " 48.82363536690299,\n",
       " 47.19752873718883,\n",
       " 58.15279566472382,\n",
       " 42.26986000671501]"
      ]
     },
     "execution_count": 6,
     "metadata": {},
     "output_type": "execute_result"
    }
   ],
   "source": [
    "mse_error"
   ]
  },
  {
   "cell_type": "code",
   "execution_count": null,
   "metadata": {},
   "outputs": [],
   "source": []
  }
 ],
 "metadata": {
  "kernelspec": {
   "display_name": "Python",
   "language": "python",
   "name": "conda-env-python-py"
  },
  "language_info": {
   "codemirror_mode": {
    "name": "ipython",
    "version": 3
   },
   "file_extension": ".py",
   "mimetype": "text/x-python",
   "name": "python",
   "nbconvert_exporter": "python",
   "pygments_lexer": "ipython3",
   "version": "3.6.7"
  }
 },
 "nbformat": 4,
 "nbformat_minor": 4
}
